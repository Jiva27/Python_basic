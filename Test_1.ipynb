{
  "nbformat": 4,
  "nbformat_minor": 0,
  "metadata": {
    "colab": {
      "provenance": [],
      "authorship_tag": "ABX9TyPT8HUOpVj8oZUiaSX3vUBz",
      "include_colab_link": true
    },
    "kernelspec": {
      "name": "python3",
      "display_name": "Python 3"
    },
    "language_info": {
      "name": "python"
    }
  },
  "cells": [
    {
      "cell_type": "markdown",
      "metadata": {
        "id": "view-in-github",
        "colab_type": "text"
      },
      "source": [
        "<a href=\"https://colab.research.google.com/github/Jiva27/Python_basic/blob/main/Test_1.ipynb\" target=\"_parent\"><img src=\"https://colab.research.google.com/assets/colab-badge.svg\" alt=\"Open In Colab\"/></a>"
      ]
    },
    {
      "cell_type": "code",
      "execution_count": null,
      "metadata": {
        "id": "kbcHNjQQXT6f"
      },
      "outputs": [],
      "source": []
    },
    {
      "cell_type": "markdown",
      "source": [
        " 1.Which type of Programming does Python support?\n",
        " Ans. all of the mentioned\n",
        "\n"
      ],
      "metadata": {
        "id": "G7Jx5wjqXVkq"
      }
    },
    {
      "cell_type": "markdown",
      "source": [
        "2. Which of the following is the correct extension of the Python\n",
        "file?\n",
        "Ans. .py"
      ],
      "metadata": {
        "id": "oEDgY7ahX1ac"
      }
    },
    {
      "cell_type": "markdown",
      "source": [
        "3. Is Python code compiled or interpreted?\n",
        "Ans.Python code is both compiled and interpreted"
      ],
      "metadata": {
        "id": "nqUZ3vXuYEVj"
      }
    },
    {
      "cell_type": "markdown",
      "source": [
        "4. Which of the following is the truncation division operator in\n",
        "Python?\n",
        "Ans. //"
      ],
      "metadata": {
        "id": "Ihrwyx16Yf2w"
      }
    },
    {
      "cell_type": "markdown",
      "source": [
        "5. Which of the following are the conditional statement in\n",
        "Python code?\n",
        "Ans.) if a<=100:"
      ],
      "metadata": {
        "id": "FuRQ1IzqYqrx"
      }
    },
    {
      "cell_type": "markdown",
      "source": [
        "6. Identify the Error\n",
        "if(a>0):\n",
        "print(“a is positive”)\n",
        "Ans.Indentation Error"
      ],
      "metadata": {
        "id": "b4DZFPGCYyT7"
      }
    },
    {
      "cell_type": "markdown",
      "source": [
        "7. In a Python program, Nested if Statements denotes?\n",
        "Ans.) if statement inside another if statement"
      ],
      "metadata": {
        "id": "bIneO21oZIdM"
      }
    },
    {
      "cell_type": "markdown",
      "source": [
        "8. Amongst which of the following is / are the application areas of\n",
        "Python programming?\n",
        "\n",
        "Ans.d) All of the mentioned above"
      ],
      "metadata": {
        "id": "5HMgmUeXZQS0"
      }
    },
    {
      "cell_type": "markdown",
      "source": [
        "9.What will be the output of the following Python code?\n",
        "x = \"abcdef\"\n",
        "i = \"a\"\n",
        "while i in x[1:]:\n",
        "print(i, end = \" \")\n",
        "Ans.error"
      ],
      "metadata": {
        "id": "weOGon8HZWc7"
      }
    },
    {
      "cell_type": "markdown",
      "source": [
        "10. What will be the output of the following Python code snippet?\n",
        "for i in ' ':\n",
        "Ans.(nothing is printed)"
      ],
      "metadata": {
        "id": "oL8Ggmn_ZgcL"
      }
    },
    {
      "cell_type": "markdown",
      "source": [
        "11. What is the order of precedence in python?\n",
        "Ans. i,ii,iii,iv,v,vi"
      ],
      "metadata": {
        "id": "PZ1OXtAOYiqS"
      }
    },
    {
      "cell_type": "markdown",
      "source": [
        "12. Which operator gives remainder after division ?\n",
        "Ans.%"
      ],
      "metadata": {
        "id": "ccLin0j5Z0RN"
      }
    },
    {
      "cell_type": "markdown",
      "source": [
        "13. Which of the following results in a Syntax Error?"
      ],
      "metadata": {
        "id": "CMl2paYeZ71J"
      }
    },
    {
      "cell_type": "markdown",
      "source": [
        "14. Which of the following is not a keyword?\n",
        "Ans.eval"
      ],
      "metadata": {
        "id": "qfQuI7U8bGFM"
      }
    },
    {
      "cell_type": "markdown",
      "source": [
        "15. What are the various types of operators in Python?\n",
        "Ans.Arithmetic Operators\n",
        "Comparison Operators\n",
        "Logical Operators\n",
        "Bitwise Operators\n",
        "Assignment Operators\n",
        "Identity Operators and Membership Operators"
      ],
      "metadata": {
        "id": "arfCvptlbJHD"
      }
    },
    {
      "cell_type": "markdown",
      "source": [
        "16. Syntax of if-else statement.\n",
        "Ans.\n",
        "if (condition):\n",
        " code---\n",
        "elif (condition):\n",
        " code---\n",
        "else:\n",
        "code----\n"
      ],
      "metadata": {
        "id": "R5Pws1kueNRP"
      }
    },
    {
      "cell_type": "markdown",
      "source": [
        "17. What are the common built-in datatypes in Python?\n",
        "Ans. int,float,boolan,string,complex"
      ],
      "metadata": {
        "id": "heiWt6v3fJLj"
      }
    },
    {
      "cell_type": "markdown",
      "source": [
        "18. Python program to find square of a number.\n"
      ],
      "metadata": {
        "id": "5cc_1f86ft3O"
      }
    },
    {
      "cell_type": "code",
      "source": [
        "a=int(input(\"enter the number\"))\n",
        "squr=a**2\n",
        "print(squr)"
      ],
      "metadata": {
        "colab": {
          "base_uri": "https://localhost:8080/"
        },
        "id": "PywnhKpAfu0H",
        "outputId": "ca24006d-37c7-4eb8-df80-9278d9a15957"
      },
      "execution_count": 1,
      "outputs": [
        {
          "output_type": "stream",
          "name": "stdout",
          "text": [
            "enter the number3\n",
            "9\n"
          ]
        }
      ]
    },
    {
      "cell_type": "markdown",
      "source": [
        "19. Python program to convert Celsius to Fahrenheit."
      ],
      "metadata": {
        "id": "JPI1SrdRgapr"
      }
    },
    {
      "cell_type": "code",
      "source": [
        "celsius = int(input(\"Enter the Temperature in Celsius :\\n\"))\n",
        "fahrenheit = (1.8 * celsius) + 32\n",
        "print(\"Temperature in Fahrenheit :\", fahrenheit)"
      ],
      "metadata": {
        "colab": {
          "base_uri": "https://localhost:8080/"
        },
        "id": "KFT9zE0XgdfO",
        "outputId": "a13895a8-1f9e-4d58-eee0-4d58c62f65cc"
      },
      "execution_count": 2,
      "outputs": [
        {
          "output_type": "stream",
          "name": "stdout",
          "text": [
            "Enter the Temperature in Celsius :\n",
            "108\n",
            "Temperature in Fahrenheit : 226.4\n"
          ]
        }
      ]
    },
    {
      "cell_type": "markdown",
      "source": [
        "20. Python program to check whether the given number is positive\n",
        "negative or zero ."
      ],
      "metadata": {
        "id": "aiaEqCXwhk-0"
      }
    },
    {
      "cell_type": "code",
      "source": [
        "num = int(input(\"Enter a number: \"))\n",
        "if num > 0:\n",
        "    print(\"The number is positive\")\n",
        "elif num < 0:\n",
        "    print(\"The number is negative\")\n",
        "else:\n",
        "    print(\"The number is zero\")"
      ],
      "metadata": {
        "colab": {
          "base_uri": "https://localhost:8080/"
        },
        "id": "VE6QnDwWhmB4",
        "outputId": "15306dd4-a1b0-4166-97ec-3fcd0c80ac0c"
      },
      "execution_count": 3,
      "outputs": [
        {
          "output_type": "stream",
          "name": "stdout",
          "text": [
            "Enter a number: 6\n",
            "The number is positive\n"
          ]
        }
      ]
    },
    {
      "cell_type": "markdown",
      "source": [
        "21. Python program to find the largest among three numbers."
      ],
      "metadata": {
        "id": "ckxXlgnahrPs"
      }
    },
    {
      "cell_type": "code",
      "source": [
        "num1 = int(input(\"Enter first number: \"))\n",
        "num2 = int(input(\"Enter second number: \"))\n",
        "num3 = int(input(\"Enter third number: \"))\n",
        "if num1 > num2 and num1 > num3:\n",
        "    print(\"The largest number is\", num1)\n",
        "elif num2 > num1 and num2 > num3:\n",
        "    print(\"The largest number is\", num2)\n",
        "else:\n",
        "    print(\"The largest number is\", num3)\n"
      ],
      "metadata": {
        "colab": {
          "base_uri": "https://localhost:8080/"
        },
        "id": "N-GWDus3hzHz",
        "outputId": "bf149fbe-66ec-46ae-b238-3e13ba08f8f1"
      },
      "execution_count": 4,
      "outputs": [
        {
          "output_type": "stream",
          "name": "stdout",
          "text": [
            "Enter first number: 45\n",
            "Enter second number: 55\n",
            "Enter third number: 33\n",
            "The largest number is 55\n"
          ]
        }
      ]
    }
  ]
}